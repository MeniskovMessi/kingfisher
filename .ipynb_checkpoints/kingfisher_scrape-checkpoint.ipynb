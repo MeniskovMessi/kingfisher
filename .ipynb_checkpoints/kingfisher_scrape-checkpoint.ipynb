{
 "cells": [
  {
   "cell_type": "code",
   "execution_count": 1,
   "id": "f82152b3-b844-4747-ae29-a91fc40b7b87",
   "metadata": {},
   "outputs": [],
   "source": [
    "from bs4 import BeautifulSoup\n",
    "import requests\n",
    "import pandas as pd\n",
    "import numpy as np"
   ]
  },
  {
   "cell_type": "code",
   "execution_count": 3,
   "id": "a6f3072f-0a9b-44d9-86ae-810f2a6f1c91",
   "metadata": {},
   "outputs": [],
   "source": [
    "URL = \"https://kingfisher.kz/\""
   ]
  },
  {
   "cell_type": "code",
   "execution_count": 5,
   "id": "8a0cdbb3-38b5-4d6d-923c-1151eabb8f46",
   "metadata": {},
   "outputs": [],
   "source": [
    "HEADERS = ({'User-Agent' : 'Mozilla/5.0 (Windows NT 10.0; Win64; x64) AppleWebKit/537.36 (KHTML, like Gecko) Chrome/132.0.0.0 Safari/537.36'})"
   ]
  },
  {
   "cell_type": "code",
   "execution_count": 7,
   "id": "965a8d2e-4fe5-41e9-92b6-5f67319b1c7b",
   "metadata": {},
   "outputs": [],
   "source": [
    "webpage = requests.get(URL, headers = HEADERS)"
   ]
  },
  {
   "cell_type": "code",
   "execution_count": 8,
   "id": "85708727-08c3-42e4-8a83-96961fa359cc",
   "metadata": {},
   "outputs": [
    {
     "data": {
      "text/plain": [
       "bytes"
      ]
     },
     "execution_count": 8,
     "metadata": {},
     "output_type": "execute_result"
    }
   ],
   "source": [
    "type(webpage.content)"
   ]
  },
  {
   "cell_type": "code",
   "execution_count": 11,
   "id": "4041025d-b482-487b-9d35-fe43e1f37119",
   "metadata": {},
   "outputs": [],
   "source": [
    "soup = BeautifulSoup(webpage.content, \"html.parser\")"
   ]
  },
  {
   "cell_type": "code",
   "execution_count": 13,
   "id": "1d12a8e8-71f9-4d25-8199-1c15132c7b6a",
   "metadata": {},
   "outputs": [],
   "source": [
    "links = soup.find_all(\"a\", attrs={'class' : 'title'})"
   ]
  },
  {
   "cell_type": "code",
   "execution_count": 15,
   "id": "5de7d8c2-2863-4067-89fa-c6664161ba69",
   "metadata": {},
   "outputs": [],
   "source": [
    "link = links[0].get('href')"
   ]
  },
  {
   "cell_type": "code",
   "execution_count": 17,
   "id": "126ee2f1-2b32-462f-8bf8-880434716c6c",
   "metadata": {},
   "outputs": [],
   "source": [
    "product_list = \"https://kingfisher.kz\" + link"
   ]
  },
  {
   "cell_type": "code",
   "execution_count": 19,
   "id": "4054363a-e3b9-4bd4-8a18-b50dbaaa74ff",
   "metadata": {},
   "outputs": [
    {
     "data": {
      "text/plain": [
       "'https://kingfisher.kz/ryba/ohlazhdennaya-ryba/sibas-ohlazhdenniy-vesom-ot-1000-do-1500-gr-greciya/'"
      ]
     },
     "execution_count": 19,
     "metadata": {},
     "output_type": "execute_result"
    }
   ],
   "source": [
    "product_list"
   ]
  },
  {
   "cell_type": "code",
   "execution_count": 21,
   "id": "ae0ebabf-b51a-4037-b6fd-8f72d25cc138",
   "metadata": {},
   "outputs": [],
   "source": [
    "new_webpage = requests.get(product_list, headers = HEADERS)"
   ]
  },
  {
   "cell_type": "code",
   "execution_count": 22,
   "id": "04648589-29af-445b-8449-5e06c2e017cc",
   "metadata": {},
   "outputs": [
    {
     "data": {
      "text/plain": [
       "<Response [200]>"
      ]
     },
     "execution_count": 22,
     "metadata": {},
     "output_type": "execute_result"
    }
   ],
   "source": [
    "new_webpage"
   ]
  },
  {
   "cell_type": "code",
   "execution_count": 25,
   "id": "58e71ef8-72d4-475e-821f-0a7a5094f9e4",
   "metadata": {},
   "outputs": [],
   "source": [
    "new_soup = BeautifulSoup(new_webpage.content, \"html.parser\")"
   ]
  },
  {
   "cell_type": "code",
   "execution_count": 27,
   "id": "f6adc3be-9624-4513-80e3-0a446e595064",
   "metadata": {},
   "outputs": [
    {
     "data": {
      "text/plain": [
       "'Сибас охлажденный весом от 1000 до 1500 гр Турция'"
      ]
     },
     "execution_count": 27,
     "metadata": {},
     "output_type": "execute_result"
    }
   ],
   "source": [
    "new_soup.find(\"h1\", attrs={\"itemprop\" : 'name'}).text"
   ]
  },
  {
   "cell_type": "code",
   "execution_count": 29,
   "id": "7f271b39-fd66-4ab6-9c1a-02de907812d3",
   "metadata": {},
   "outputs": [
    {
     "data": {
      "text/plain": [
       "'12 990 тг.'"
      ]
     },
     "execution_count": 29,
     "metadata": {},
     "output_type": "execute_result"
    }
   ],
   "source": [
    "new_soup.find(\"div\", attrs={\"class\" : 'gPrice gPrice1'}).find(\"div\", attrs={\"class\" : 'new'}).text"
   ]
  },
  {
   "cell_type": "code",
   "execution_count": 31,
   "id": "a49edd4b-c934-4e5b-98bc-9855cfcf1c2b",
   "metadata": {},
   "outputs": [
    {
     "data": {
      "text/plain": [
       "'19 485 тг.'"
      ]
     },
     "execution_count": 31,
     "metadata": {},
     "output_type": "execute_result"
    }
   ],
   "source": [
    "new_soup.find(\"div\", attrs={\"class\" : 'gPrice gPrice2'}).find(\"div\", attrs={\"class\" : 'new'}).text"
   ]
  },
  {
   "cell_type": "code",
   "execution_count": 33,
   "id": "1a319f22-90f2-4847-9345-fa491229c655",
   "metadata": {},
   "outputs": [
    {
     "data": {
      "text/plain": [
       "3"
      ]
     },
     "execution_count": 33,
     "metadata": {},
     "output_type": "execute_result"
    }
   ],
   "source": [
    "rating_value = new_soup.find(\"div\", attrs={\"itemtype\" : 'http://schema.org/AggregateRating'}).find(\"meta\", attrs={\"itemprop\" : 'ratingValue'})[\"content\"]\n",
    "\n",
    "rating_value = int(rating_value)\n",
    "\n",
    "rating_value"
   ]
  },
  {
   "cell_type": "code",
   "execution_count": 35,
   "id": "ade614f0-64b8-410e-a494-83e0d6f2c892",
   "metadata": {},
   "outputs": [
    {
     "name": "stdout",
     "output_type": "stream",
     "text": [
      "Рыба\n"
     ]
    }
   ],
   "source": [
    "results = new_soup.find_all(\"span\", attrs={'itemprop': 'name'})\n",
    "\n",
    "if len(results) > 1:\n",
    "    second_result = results[1].get_text()\n",
    "else:\n",
    "    second_result = None\n",
    "\n",
    "print(second_result)"
   ]
  },
  {
   "cell_type": "code",
   "execution_count": null,
   "id": "1a751b0a-768c-4ea4-bb58-168a82089c65",
   "metadata": {},
   "outputs": [],
   "source": []
  },
  {
   "cell_type": "code",
   "execution_count": 38,
   "id": "34735287-8bf7-4226-b8e3-2b1cc88a4afc",
   "metadata": {},
   "outputs": [],
   "source": [
    "def get_title(soup):\n",
    "\n",
    "    try:\n",
    "        title = soup.find(\"h1\", attrs={\"itemprop\" : 'name'})\n",
    "        \n",
    "        title_value = title.text\n",
    "\n",
    "        title_string = title_value.strip()\n",
    "\n",
    "    except AttributeError:\n",
    "        title_string = \"\"\n",
    "\n",
    "    return title_string"
   ]
  },
  {
   "cell_type": "code",
   "execution_count": 40,
   "id": "16fa95b3-b075-4734-970e-92fb7c503caa",
   "metadata": {},
   "outputs": [],
   "source": [
    "def get_category(soup):\n",
    "\n",
    "    try:\n",
    "        category = soup.find_all(\"span\", attrs={'itemprop': 'name'})\n",
    "        \n",
    "        if len(category) > 1:\n",
    "            category_string = category[1].get_text()\n",
    "\n",
    "    except AttributeError:\n",
    "        category_string = \"\"\n",
    "\n",
    "    return category_string"
   ]
  },
  {
   "cell_type": "code",
   "execution_count": 42,
   "id": "c07d8efb-200d-472f-968b-6e7871184cea",
   "metadata": {},
   "outputs": [],
   "source": [
    "def get_subcategory(soup):\n",
    "\n",
    "    try:\n",
    "        subcategory = soup.find_all(\"span\", attrs={'itemprop': 'name'})\n",
    "        \n",
    "        if len(subcategory) > 2:\n",
    "            subcategory_string = subcategory[2].get_text()\n",
    "\n",
    "    except AttributeError:\n",
    "        subcategory_string = \"\"\n",
    "\n",
    "    return subcategory_string"
   ]
  },
  {
   "cell_type": "code",
   "execution_count": 55,
   "id": "287b7a17-b2c4-49c8-9643-39746e92f843",
   "metadata": {},
   "outputs": [],
   "source": [
    "def get_price(soup):\n",
    "\n",
    "    try:\n",
    "        price = soup.find(\"div\", attrs={\"class\" : 'gPrice gPrice1'}).find(\"div\", attrs={\"class\" : 'new'}).string.strip()\n",
    "        price = price.replace(\" тг.\", \"\").replace(\" \", \"\")\n",
    "        price = int(price)\n",
    "    except AttributeError:\n",
    "\n",
    "        try:\n",
    "            price = soup.find(\"div\", attrs={\"class\" : 'gPrice gPrice1'}).find(\"div\", attrs={\"class\" : 'new'}).string.strip()\n",
    "\n",
    "        except:\n",
    "            price = \"\"\n",
    "\n",
    "    return price"
   ]
  },
  {
   "cell_type": "code",
   "execution_count": 57,
   "id": "7c9c8a4a-838e-44f6-9e5a-ebcea713319c",
   "metadata": {},
   "outputs": [],
   "source": [
    "def get_rating(soup):\n",
    "\n",
    "    try:\n",
    "        rating = soup.find(\"div\", attrs={\"itemtype\" : 'http://schema.org/AggregateRating'}).find(\"meta\", attrs={\"itemprop\" : 'ratingValue'})[\"content\"]\n",
    "        rating = int(rating)\n",
    "    except AttributeError:\n",
    "        try:\n",
    "            rating = soup.find(\"div\", attrs={\"itemtype\" : 'http://schema.org/AggregateRating'}).find(\"meta\", attrs={\"itemprop\" : 'ratingValue'})[\"content\"]\n",
    "        except:\n",
    "            rating = \"\"\t\n",
    "\n",
    "    return rating"
   ]
  },
  {
   "cell_type": "code",
   "execution_count": 61,
   "id": "2bd5233f-4b10-4a8a-88dd-2159de31e52e",
   "metadata": {},
   "outputs": [],
   "source": [
    "categories = [\n",
    "    \"moreprodukty\", \"ryba\", \"ikra\", \"myaso\", \"antipasti\", \n",
    "    \"bakaleya\", \"sneki-i-orehi\", \"maslo\", \"cheeses\"\n",
    "]\n",
    "\n",
    "d = {\"title\":[], \"category\":[], \"subcategory\": [], \"price\":[], \"rating\":[]}"
   ]
  },
  {
   "cell_type": "code",
   "execution_count": 63,
   "id": "f3affb6a-fb31-4e90-83d6-75234e31853d",
   "metadata": {},
   "outputs": [
    {
     "name": "stdout",
     "output_type": "stream",
     "text": [
      "https://kingfisher.kz/moreprodukty/\n",
      "https://kingfisher.kz/ryba/\n",
      "https://kingfisher.kz/ikra/\n",
      "https://kingfisher.kz/myaso/\n",
      "https://kingfisher.kz/antipasti/\n",
      "https://kingfisher.kz/bakaleya/\n",
      "https://kingfisher.kz/sneki-i-orehi/\n",
      "https://kingfisher.kz/maslo/\n",
      "https://kingfisher.kz/cheeses/\n"
     ]
    }
   ],
   "source": [
    "for category in categories:\n",
    "    URL = f\"https://kingfisher.kz/{category}/\"\n",
    "\n",
    "    webpage = requests.get(URL, headers=HEADERS)\n",
    "\n",
    "    soup = BeautifulSoup(webpage.content, \"html.parser\")\n",
    "\n",
    "    links = soup.find_all(\"a\", attrs={'class': 'title'})\n",
    "\n",
    "    links_list = []\n",
    "\n",
    "    print(f\"https://kingfisher.kz/{category}/\")\n",
    "\n",
    "    for link in links:\n",
    "        links_list.append(link.get('href'))\n",
    "\n",
    "    for link in links_list:\n",
    "        new_webpage = requests.get(\"https://kingfisher.kz\" + link, headers=HEADERS)\n",
    "\n",
    "        new_soup = BeautifulSoup(new_webpage.content, \"html.parser\")\n",
    "\n",
    "        d['title'].append(get_title(new_soup))\n",
    "        d['category'].append(get_category(new_soup))\n",
    "        d['subcategory'].append(get_subcategory(new_soup))\n",
    "        d['price'].append(get_price(new_soup))\n",
    "        d['rating'].append(get_rating(new_soup))"
   ]
  },
  {
   "cell_type": "code",
   "execution_count": 64,
   "id": "f227bd8f-e447-4f7f-b626-5df2b164a3d6",
   "metadata": {},
   "outputs": [],
   "source": [
    "kingfisher_df = pd.DataFrame.from_dict(d)"
   ]
  },
  {
   "cell_type": "code",
   "execution_count": 65,
   "id": "1d72a9ad-a599-4adf-8dc7-352907a6c086",
   "metadata": {},
   "outputs": [
    {
     "data": {
      "text/html": [
       "<div>\n",
       "<style scoped>\n",
       "    .dataframe tbody tr th:only-of-type {\n",
       "        vertical-align: middle;\n",
       "    }\n",
       "\n",
       "    .dataframe tbody tr th {\n",
       "        vertical-align: top;\n",
       "    }\n",
       "\n",
       "    .dataframe thead th {\n",
       "        text-align: right;\n",
       "    }\n",
       "</style>\n",
       "<table border=\"1\" class=\"dataframe\">\n",
       "  <thead>\n",
       "    <tr style=\"text-align: right;\">\n",
       "      <th></th>\n",
       "      <th>title</th>\n",
       "      <th>category</th>\n",
       "      <th>subcategory</th>\n",
       "      <th>price</th>\n",
       "      <th>rating</th>\n",
       "    </tr>\n",
       "  </thead>\n",
       "  <tbody>\n",
       "    <tr>\n",
       "      <th>0</th>\n",
       "      <td>Креветки Королевские 26/30 очищенные 1 кг</td>\n",
       "      <td>Морепродукты</td>\n",
       "      <td>Креветки</td>\n",
       "      <td>7500</td>\n",
       "      <td>5</td>\n",
       "    </tr>\n",
       "    <tr>\n",
       "      <th>1</th>\n",
       "      <td>Креветка Королевская 16/20 в панцире б/г 1 кг</td>\n",
       "      <td>Морепродукты</td>\n",
       "      <td>Креветки</td>\n",
       "      <td>7800</td>\n",
       "      <td></td>\n",
       "    </tr>\n",
       "    <tr>\n",
       "      <th>2</th>\n",
       "      <td>Креветка Королевская 31/40 очищенная 1 кг/уп</td>\n",
       "      <td>Морепродукты</td>\n",
       "      <td>Креветки</td>\n",
       "      <td>7600</td>\n",
       "      <td></td>\n",
       "    </tr>\n",
       "    <tr>\n",
       "      <th>3</th>\n",
       "      <td>Креветка Королевская  21/25, в панцире без головы</td>\n",
       "      <td>Морепродукты</td>\n",
       "      <td>Креветки</td>\n",
       "      <td>7600</td>\n",
       "      <td></td>\n",
       "    </tr>\n",
       "    <tr>\n",
       "      <th>4</th>\n",
       "      <td>Лангустины в панцире с головой, размер 21-30 у...</td>\n",
       "      <td>Морепродукты</td>\n",
       "      <td>Креветки</td>\n",
       "      <td>11490</td>\n",
       "      <td></td>\n",
       "    </tr>\n",
       "    <tr>\n",
       "      <th>...</th>\n",
       "      <td>...</td>\n",
       "      <td>...</td>\n",
       "      <td>...</td>\n",
       "      <td>...</td>\n",
       "      <td>...</td>\n",
       "    </tr>\n",
       "    <tr>\n",
       "      <th>772</th>\n",
       "      <td>Ghidetti Сыр Grana Padano Dop 10-12 мес, 1 кг</td>\n",
       "      <td>Сыры</td>\n",
       "      <td>Итальянский сыр</td>\n",
       "      <td>17500</td>\n",
       "      <td></td>\n",
       "    </tr>\n",
       "    <tr>\n",
       "      <th>773</th>\n",
       "      <td>Сыр Манчего полувыдержанный 2-3 месяца Vega Ma...</td>\n",
       "      <td>Сыры</td>\n",
       "      <td>Испанские сыры</td>\n",
       "      <td>25990</td>\n",
       "      <td></td>\n",
       "    </tr>\n",
       "    <tr>\n",
       "      <th>774</th>\n",
       "      <td>Ghidetti Сыр твердый Gran Guardia 1 кг</td>\n",
       "      <td>Сыры</td>\n",
       "      <td>Итальянский сыр</td>\n",
       "      <td>14500</td>\n",
       "      <td></td>\n",
       "    </tr>\n",
       "    <tr>\n",
       "      <th>775</th>\n",
       "      <td>Luigi Guffanti Пьяве Веччо сыр полутвердый, кр...</td>\n",
       "      <td>Сыры</td>\n",
       "      <td>Итальянский сыр</td>\n",
       "      <td>27500</td>\n",
       "      <td></td>\n",
       "    </tr>\n",
       "    <tr>\n",
       "      <th>776</th>\n",
       "      <td>Luigi Guffanti Пьяве Оро сыр полутвердый, круг...</td>\n",
       "      <td>Сыры</td>\n",
       "      <td>Итальянский сыр</td>\n",
       "      <td>28900</td>\n",
       "      <td></td>\n",
       "    </tr>\n",
       "  </tbody>\n",
       "</table>\n",
       "<p>777 rows × 5 columns</p>\n",
       "</div>"
      ],
      "text/plain": [
       "                                                 title      category  \\\n",
       "0            Креветки Королевские 26/30 очищенные 1 кг  Морепродукты   \n",
       "1        Креветка Королевская 16/20 в панцире б/г 1 кг  Морепродукты   \n",
       "2         Креветка Королевская 31/40 очищенная 1 кг/уп  Морепродукты   \n",
       "3    Креветка Королевская  21/25, в панцире без головы  Морепродукты   \n",
       "4    Лангустины в панцире с головой, размер 21-30 у...  Морепродукты   \n",
       "..                                                 ...           ...   \n",
       "772      Ghidetti Сыр Grana Padano Dop 10-12 мес, 1 кг          Сыры   \n",
       "773  Сыр Манчего полувыдержанный 2-3 месяца Vega Ma...          Сыры   \n",
       "774             Ghidetti Сыр твердый Gran Guardia 1 кг          Сыры   \n",
       "775  Luigi Guffanti Пьяве Веччо сыр полутвердый, кр...          Сыры   \n",
       "776  Luigi Guffanti Пьяве Оро сыр полутвердый, круг...          Сыры   \n",
       "\n",
       "         subcategory  price rating  \n",
       "0           Креветки   7500      5  \n",
       "1           Креветки   7800         \n",
       "2           Креветки   7600         \n",
       "3           Креветки   7600         \n",
       "4           Креветки  11490         \n",
       "..               ...    ...    ...  \n",
       "772  Итальянский сыр  17500         \n",
       "773   Испанские сыры  25990         \n",
       "774  Итальянский сыр  14500         \n",
       "775  Итальянский сыр  27500         \n",
       "776  Итальянский сыр  28900         \n",
       "\n",
       "[777 rows x 5 columns]"
      ]
     },
     "execution_count": 65,
     "metadata": {},
     "output_type": "execute_result"
    }
   ],
   "source": [
    "kingfisher_df"
   ]
  },
  {
   "cell_type": "code",
   "execution_count": 74,
   "id": "5901bde0-915e-4053-94b9-421dbc5461e1",
   "metadata": {},
   "outputs": [
    {
     "name": "stdout",
     "output_type": "stream",
     "text": [
      "uploaded\n"
     ]
    }
   ],
   "source": [
    "kingfisher_df.to_csv(r'C:\\Users\\menis\\Desktop\\kingfisher\\kingfisher_data.xls', header=True, index=False)\n",
    "\n",
    "print('uploaded')"
   ]
  },
  {
   "cell_type": "code",
   "execution_count": null,
   "id": "40d3c207-2bb6-4123-a322-afb23055eb37",
   "metadata": {},
   "outputs": [],
   "source": []
  },
  {
   "cell_type": "code",
   "execution_count": null,
   "id": "37959197-fbff-46bb-bfce-8015bd3ef208",
   "metadata": {},
   "outputs": [],
   "source": []
  }
 ],
 "metadata": {
  "kernelspec": {
   "display_name": "Python 3 (ipykernel)",
   "language": "python",
   "name": "python3"
  },
  "language_info": {
   "codemirror_mode": {
    "name": "ipython",
    "version": 3
   },
   "file_extension": ".py",
   "mimetype": "text/x-python",
   "name": "python",
   "nbconvert_exporter": "python",
   "pygments_lexer": "ipython3",
   "version": "3.12.4"
  }
 },
 "nbformat": 4,
 "nbformat_minor": 5
}
